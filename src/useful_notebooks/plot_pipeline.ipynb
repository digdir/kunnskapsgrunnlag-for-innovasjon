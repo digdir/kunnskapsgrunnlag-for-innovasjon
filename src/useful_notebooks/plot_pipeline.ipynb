{
 "cells": [
  {
   "cell_type": "code",
   "execution_count": 1,
   "metadata": {},
   "outputs": [],
   "source": [
    "%load_ext autoreload\n",
    "%autoreload 2"
   ]
  },
  {
   "cell_type": "code",
   "execution_count": 2,
   "metadata": {},
   "outputs": [],
   "source": [
    "import json\n",
    "import os\n",
    "import pickle\n",
    "import shutil\n",
    "from datetime import datetime\n",
    "\n",
    "import matplotlib.figure\n",
    "import numpy as np\n",
    "import pandas as pd\n",
    "from matplotlib import pyplot as plt\n",
    "from tqdm.notebook import tqdm\n",
    "\n",
    "from src.embedding_model import embed\n",
    "from src.plot_utils import plot_frequency, plot_grouped_results\n",
    "from src.utils import (\n",
    "    DEFAULT_K,\n",
    "    get_all_organisations,\n",
    "    get_departments,\n",
    "    get_directorates,\n",
    "    populate_everything,\n",
    "    populate_lengths,\n",
    "    remove_empty_documents,\n",
    ")"
   ]
  },
  {
   "cell_type": "code",
   "execution_count": 3,
   "metadata": {},
   "outputs": [],
   "source": [
    "df: pd.DataFrame = pd.read_pickle(\"df_with_embeddings_float32_filtered50.pkl\")\n",
    "populate_lengths(df)\n",
    "remove_empty_documents(df)"
   ]
  },
  {
   "cell_type": "code",
   "execution_count": 5,
   "metadata": {},
   "outputs": [],
   "source": [
    "deps = get_departments(df)"
   ]
  },
  {
   "cell_type": "code",
   "execution_count": 11,
   "metadata": {},
   "outputs": [
    {
     "data": {
      "text/plain": [
       "type\n",
       "Tildelingsbrev    893\n",
       "Årsrapport          2\n",
       "Name: count, dtype: int64"
      ]
     },
     "execution_count": 11,
     "metadata": {},
     "output_type": "execute_result"
    }
   ],
   "source": [
    "df[df[\"name\"].isin(deps)].type.value_counts()"
   ]
  },
  {
   "cell_type": "code",
   "execution_count": 12,
   "metadata": {},
   "outputs": [
    {
     "data": {
      "text/html": [
       "<div>\n",
       "<style scoped>\n",
       "    .dataframe tbody tr th:only-of-type {\n",
       "        vertical-align: middle;\n",
       "    }\n",
       "\n",
       "    .dataframe tbody tr th {\n",
       "        vertical-align: top;\n",
       "    }\n",
       "\n",
       "    .dataframe thead th {\n",
       "        text-align: right;\n",
       "    }\n",
       "</style>\n",
       "<table border=\"1\" class=\"dataframe\">\n",
       "  <thead>\n",
       "    <tr style=\"text-align: right;\">\n",
       "      <th></th>\n",
       "      <th>id</th>\n",
       "      <th>uuid</th>\n",
       "      <th>type</th>\n",
       "      <th>title</th>\n",
       "      <th>subtitle</th>\n",
       "      <th>original_title</th>\n",
       "      <th>isbn</th>\n",
       "      <th>isbn_printed</th>\n",
       "      <th>issn</th>\n",
       "      <th>redirect_to_id</th>\n",
       "      <th>...</th>\n",
       "      <th>created_at.2</th>\n",
       "      <th>updated_at.2</th>\n",
       "      <th>id.4</th>\n",
       "      <th>level</th>\n",
       "      <th>parent_id</th>\n",
       "      <th>entity_id.1</th>\n",
       "      <th>created_at.3</th>\n",
       "      <th>updated_at.3</th>\n",
       "      <th>split_paragraphs</th>\n",
       "      <th>lengths</th>\n",
       "    </tr>\n",
       "  </thead>\n",
       "  <tbody>\n",
       "    <tr>\n",
       "      <th>39</th>\n",
       "      <td>1138</td>\n",
       "      <td>5a261bf3-52ce-4584-88ec-9b7619c2153a</td>\n",
       "      <td>Årsrapport</td>\n",
       "      <td>Årsrapport Forsvaret 2019</td>\n",
       "      <td>NaN</td>\n",
       "      <td>NaN</td>\n",
       "      <td>NaN</td>\n",
       "      <td>NaN</td>\n",
       "      <td>NaN</td>\n",
       "      <td>NaN</td>\n",
       "      <td>...</td>\n",
       "      <td>2022-01-04 09:00:17</td>\n",
       "      <td>2022-10-12 21:02:04</td>\n",
       "      <td>1463</td>\n",
       "      <td>0</td>\n",
       "      <td>NaN</td>\n",
       "      <td>972417823</td>\n",
       "      <td>2024-04-02 22:00:04</td>\n",
       "      <td>2024-04-02 22:00:04</td>\n",
       "      <td>[(1, Innhold\\n01 LEDERS BERETNING\b, [[ 0.06709...</td>\n",
       "      <td>691</td>\n",
       "    </tr>\n",
       "    <tr>\n",
       "      <th>108</th>\n",
       "      <td>3696</td>\n",
       "      <td>6dcbe90d-7bfc-47c0-bd22-de7c9de6b893</td>\n",
       "      <td>Årsrapport</td>\n",
       "      <td>Årsrapport Forsvaret 2018</td>\n",
       "      <td>NaN</td>\n",
       "      <td>NaN</td>\n",
       "      <td>NaN</td>\n",
       "      <td>NaN</td>\n",
       "      <td>NaN</td>\n",
       "      <td>NaN</td>\n",
       "      <td>...</td>\n",
       "      <td>2022-01-04 09:00:17</td>\n",
       "      <td>2022-10-12 21:02:04</td>\n",
       "      <td>1463</td>\n",
       "      <td>0</td>\n",
       "      <td>NaN</td>\n",
       "      <td>972417823</td>\n",
       "      <td>2024-04-02 22:00:04</td>\n",
       "      <td>2024-04-02 22:00:04</td>\n",
       "      <td>[(1, For alt vi har. Og alt vi er.\\n1, [[ 0.05...</td>\n",
       "      <td>644</td>\n",
       "    </tr>\n",
       "  </tbody>\n",
       "</table>\n",
       "<p>2 rows × 59 columns</p>\n",
       "</div>"
      ],
      "text/plain": [
       "       id                                  uuid        type  \\\n",
       "39   1138  5a261bf3-52ce-4584-88ec-9b7619c2153a  Årsrapport   \n",
       "108  3696  6dcbe90d-7bfc-47c0-bd22-de7c9de6b893  Årsrapport   \n",
       "\n",
       "                          title subtitle  original_title  isbn  isbn_printed  \\\n",
       "39    Årsrapport Forsvaret 2019      NaN             NaN   NaN           NaN   \n",
       "108  Årsrapport Forsvaret 2018      NaN             NaN   NaN           NaN   \n",
       "\n",
       "     issn  redirect_to_id  ...         created_at.2         updated_at.2  \\\n",
       "39    NaN             NaN  ...  2022-01-04 09:00:17  2022-10-12 21:02:04   \n",
       "108   NaN             NaN  ...  2022-01-04 09:00:17  2022-10-12 21:02:04   \n",
       "\n",
       "     id.4 level parent_id entity_id.1         created_at.3  \\\n",
       "39   1463     0       NaN   972417823  2024-04-02 22:00:04   \n",
       "108  1463     0       NaN   972417823  2024-04-02 22:00:04   \n",
       "\n",
       "            updated_at.3                                   split_paragraphs  \\\n",
       "39   2024-04-02 22:00:04  [(1, Innhold\\n01 LEDERS BERETNING\b, [[ 0.06709...   \n",
       "108  2024-04-02 22:00:04  [(1, For alt vi har. Og alt vi er.\\n1, [[ 0.05...   \n",
       "\n",
       "    lengths  \n",
       "39      691  \n",
       "108     644  \n",
       "\n",
       "[2 rows x 59 columns]"
      ]
     },
     "execution_count": 12,
     "metadata": {},
     "output_type": "execute_result"
    }
   ],
   "source": [
    "df[(df[\"name\"].isin(deps)) & (df.type == \"Årsrapport\")]"
   ]
  },
  {
   "cell_type": "code",
   "execution_count": null,
   "metadata": {},
   "outputs": [],
   "source": [
    "with open(\"questions.json\", \"r\") as f:\n",
    "    questions = json.load(f)"
   ]
  },
  {
   "cell_type": "code",
   "execution_count": null,
   "metadata": {},
   "outputs": [],
   "source": [
    "for x, y in questions.items():\n",
    "    print(f\"Executing code for question {x}...\")\n",
    "    question_reference = y[\"question_reference\"]\n",
    "    question_final = y[\"question_final\"]\n",
    "    inn_texts = y[\"reference_texts\"]\n",
    "    print(\"Embedding reference texts...\")\n",
    "    inn_texts_embeddings = [embed(inn_text) for inn_text in inn_texts]\n",
    "    inn_texts_embeddings = np.array(inn_texts_embeddings)\n",
    "    y[\"reference_embedding\"] = np.mean(inn_texts_embeddings, axis=0)"
   ]
  },
  {
   "cell_type": "code",
   "execution_count": null,
   "metadata": {},
   "outputs": [],
   "source": [
    "with open(\"questions_with_embeddings.pkl\", \"wb\") as f:\n",
    "    pickle.dump(questions, f)"
   ]
  },
  {
   "cell_type": "code",
   "execution_count": 11,
   "metadata": {},
   "outputs": [],
   "source": [
    "with open(\"questions_with_embeddings.pkl\", \"rb\") as f:\n",
    "    questions = pickle.load(f)"
   ]
  },
  {
   "cell_type": "code",
   "execution_count": 7,
   "metadata": {},
   "outputs": [],
   "source": [
    "def clear_data_folder():\n",
    "    cwd = os.getcwd()\n",
    "    data_folder = os.path.join(cwd, \"data\")\n",
    "    # clear all the files in all subfolders of the data folder\n",
    "    for root, dirs, files in os.walk(data_folder, topdown=False):\n",
    "        for file in files:\n",
    "            os.remove(os.path.join(root, file))\n",
    "        # clear all the subfolders\n",
    "        for d in dirs:\n",
    "            shutil.rmtree(os.path.join(root, d))\n",
    "\n",
    "\n",
    "clear_data_folder()"
   ]
  },
  {
   "cell_type": "code",
   "execution_count": null,
   "metadata": {},
   "outputs": [],
   "source": [
    "cwd = os.getcwd()\n",
    "data_folder = os.path.join(cwd, \"data\")\n",
    "orgs = get_all_organisations(df)\n",
    "deps = get_departments(df)\n",
    "dirs = get_directorates(df)\n",
    "ffed = False\n",
    "for x, y in questions.items():\n",
    "    print(f\"{datetime.now()}: Executing code for question {x}...\")\n",
    "    question_folder = os.path.join(data_folder, x)\n",
    "    if not os.path.exists(question_folder):\n",
    "        os.makedirs(question_folder)\n",
    "\n",
    "    question_reference = y[\"question_reference\"]\n",
    "    question_final = y[\"question_final\"]\n",
    "    inn_texts = y[\"reference_texts\"]\n",
    "    inn_texts_embedding = y[\"reference_embedding\"]\n",
    "\n",
    "    print(f\"{datetime.now()}: Comparing similarity...\")\n",
    "    populate_everything(df, inn_texts_embedding)\n",
    "\n",
    "    print(f\"{datetime.now()}: Plotting...\")\n",
    "    plot_grouped_results(\n",
    "        df, deps, title=question_final, fig_size=(1100, 600)\n",
    "    ).write_image(os.path.join(question_folder, \"departments_over_time.png\"), scale=2)\n",
    "\n",
    "    plot_frequency(df, question=question_final).savefig(\n",
    "        os.path.join(question_folder, \"hvor_ofte_alle_virksomheter.png\"),\n",
    "        dpi=200,\n",
    "        bbox_inches=\"tight\",\n",
    "    )\n",
    "    plot_frequency(df[df[\"type\"] == \"Tildelingsbrev\"], question=question_final).savefig(\n",
    "        os.path.join(question_folder, \"hvor_ofte_kun_tildelingsbrev.png\"),\n",
    "        dpi=200,\n",
    "        bbox_inches=\"tight\",\n",
    "    )\n",
    "    plot_frequency(df[df[\"type\"] == \"Årsrapport\"], question=question_final).savefig(\n",
    "        os.path.join(question_folder, \"hvor_ofte_kun_årsrapport.png\"),\n",
    "        dpi=200,\n",
    "        bbox_inches=\"tight\",\n",
    "    )\n",
    "\n",
    "    print()"
   ]
  },
  {
   "cell_type": "code",
   "execution_count": null,
   "metadata": {},
   "outputs": [],
   "source": [
    "# need to download the data folder and zip it in windows\n",
    "# clear_data_folder()"
   ]
  },
  {
   "cell_type": "code",
   "execution_count": 6,
   "metadata": {},
   "outputs": [
    {
     "name": "stdout",
     "output_type": "stream",
     "text": [
      "2024-05-09 05:51:44.389625: Executing code for question 4.2...\n",
      "2024-05-09 05:51:44.390120: Comparing similarity...\n"
     ]
    },
    {
     "data": {
      "application/vnd.jupyter.widget-view+json": {
       "model_id": "1bb54c3e1e1a464db9fc35438b718c26",
       "version_major": 2,
       "version_minor": 0
      },
      "text/plain": [
       "Plotting how_often for each organisation:   0%|          | 0/196 [00:00<?, ?it/s]"
      ]
     },
     "metadata": {},
     "output_type": "display_data"
    },
    {
     "name": "stdout",
     "output_type": "stream",
     "text": [
      "\n",
      "2024-05-09 05:54:23.530828: Executing code for question 4.3...\n",
      "2024-05-09 05:54:23.534278: Comparing similarity...\n"
     ]
    },
    {
     "data": {
      "application/vnd.jupyter.widget-view+json": {
       "model_id": "3119cf0598974732bd883184a1a3e216",
       "version_major": 2,
       "version_minor": 0
      },
      "text/plain": [
       "Plotting how_often for each organisation:   0%|          | 0/196 [00:00<?, ?it/s]"
      ]
     },
     "metadata": {},
     "output_type": "display_data"
    },
    {
     "name": "stdout",
     "output_type": "stream",
     "text": [
      "\n",
      "2024-05-09 05:56:29.881344: Executing code for question 4.4...\n",
      "2024-05-09 05:56:29.885385: Comparing similarity...\n"
     ]
    },
    {
     "data": {
      "application/vnd.jupyter.widget-view+json": {
       "model_id": "e9923d19bfc149f79656018412f80783",
       "version_major": 2,
       "version_minor": 0
      },
      "text/plain": [
       "Plotting how_often for each organisation:   0%|          | 0/196 [00:00<?, ?it/s]"
      ]
     },
     "metadata": {},
     "output_type": "display_data"
    },
    {
     "name": "stdout",
     "output_type": "stream",
     "text": [
      "\n",
      "2024-05-09 05:58:34.959678: Executing code for question 4.5...\n",
      "2024-05-09 05:58:34.962000: Comparing similarity...\n"
     ]
    },
    {
     "data": {
      "application/vnd.jupyter.widget-view+json": {
       "model_id": "027473aeb6984bd9991fd437ebe6bb8d",
       "version_major": 2,
       "version_minor": 0
      },
      "text/plain": [
       "Plotting how_often for each organisation:   0%|          | 0/196 [00:00<?, ?it/s]"
      ]
     },
     "metadata": {},
     "output_type": "display_data"
    },
    {
     "name": "stdout",
     "output_type": "stream",
     "text": [
      "\n",
      "2024-05-09 06:02:05.144523: Executing code for question 5.1...\n",
      "2024-05-09 06:02:05.148228: Comparing similarity...\n"
     ]
    },
    {
     "data": {
      "application/vnd.jupyter.widget-view+json": {
       "model_id": "9c2127383b8b472498872c3a4c8c1a83",
       "version_major": 2,
       "version_minor": 0
      },
      "text/plain": [
       "Plotting how_often for each organisation:   0%|          | 0/196 [00:00<?, ?it/s]"
      ]
     },
     "metadata": {},
     "output_type": "display_data"
    },
    {
     "name": "stdout",
     "output_type": "stream",
     "text": [
      "\n",
      "2024-05-09 06:03:54.851534: Executing code for question 5.2...\n",
      "2024-05-09 06:03:54.854847: Comparing similarity...\n"
     ]
    },
    {
     "data": {
      "application/vnd.jupyter.widget-view+json": {
       "model_id": "b31e33a1eccb4915bfb9e96f9c400906",
       "version_major": 2,
       "version_minor": 0
      },
      "text/plain": [
       "Plotting how_often for each organisation:   0%|          | 0/196 [00:00<?, ?it/s]"
      ]
     },
     "metadata": {},
     "output_type": "display_data"
    },
    {
     "name": "stdout",
     "output_type": "stream",
     "text": [
      "\n",
      "2024-05-09 06:05:56.998690: Executing code for question 5.3...\n",
      "2024-05-09 06:05:57.001123: Comparing similarity...\n"
     ]
    },
    {
     "data": {
      "application/vnd.jupyter.widget-view+json": {
       "model_id": "254e583ed8a34851bb37cc83f539a847",
       "version_major": 2,
       "version_minor": 0
      },
      "text/plain": [
       "Plotting how_often for each organisation:   0%|          | 0/196 [00:00<?, ?it/s]"
      ]
     },
     "metadata": {},
     "output_type": "display_data"
    },
    {
     "name": "stdout",
     "output_type": "stream",
     "text": [
      "\n",
      "2024-05-09 06:07:35.652430: Executing code for question 5.4...\n",
      "2024-05-09 06:07:35.655335: Comparing similarity...\n"
     ]
    },
    {
     "data": {
      "application/vnd.jupyter.widget-view+json": {
       "model_id": "56069302ed3c47e1be44ef9f247569e0",
       "version_major": 2,
       "version_minor": 0
      },
      "text/plain": [
       "Plotting how_often for each organisation:   0%|          | 0/196 [00:00<?, ?it/s]"
      ]
     },
     "metadata": {},
     "output_type": "display_data"
    },
    {
     "name": "stdout",
     "output_type": "stream",
     "text": [
      "\n"
     ]
    }
   ],
   "source": [
    "cwd = os.getcwd()\n",
    "data_folder = os.path.join(cwd, \"data\")\n",
    "orgs = get_all_organisations(df)\n",
    "deps = get_departments(df)\n",
    "dirs = get_directorates(df)\n",
    "for x, y in questions.items():\n",
    "    print(f\"{datetime.now()}: Executing code for question {x}...\")\n",
    "    question_folder = os.path.join(data_folder, x)\n",
    "    if not os.path.exists(question_folder):\n",
    "        os.makedirs(question_folder)\n",
    "\n",
    "    question_reference = y[\"question_reference\"]\n",
    "    question_final = y[\"question_final\"]\n",
    "    inn_texts = y[\"reference_texts\"]\n",
    "    inn_texts_embedding = y[\"reference_embedding\"]\n",
    "\n",
    "    print(f\"{datetime.now()}: Comparing similarity...\")\n",
    "    populate_everything(df, inn_texts_embedding)\n",
    "\n",
    "    for org in tqdm(\n",
    "        orgs, desc=\"Plotting how_often for each organisation\", total=len(orgs)\n",
    "    ):\n",
    "        fig: matplotlib.figure.Figure = plot_frequency(\n",
    "            df, question=question_final, org=org\n",
    "        )\n",
    "        org_filename = org.replace(\"/\", \"-\")\n",
    "        fig.savefig(os.path.join(question_folder,\n",
    "                    f\"{org_filename}.png\"), dpi=200)\n",
    "\n",
    "    print()"
   ]
  },
  {
   "cell_type": "code",
   "execution_count": null,
   "metadata": {},
   "outputs": [],
   "source": [
    "# need to download the data folder and zip it in windows\n",
    "# clear_data_folder()"
   ]
  },
  {
   "cell_type": "code",
   "execution_count": 13,
   "metadata": {},
   "outputs": [],
   "source": [
    "def split_paragraphs_with_score_to_dict(row):\n",
    "    zipped_paras = zip(\n",
    "        row[\"split_paragraphs\"],\n",
    "        row[\"deviation_scaled_with_length\"],\n",
    "        row[\"sims_scaled\"],\n",
    "    )\n",
    "    zipped_paras = sorted(zipped_paras, key=lambda x: x[1], reverse=True)\n",
    "    return {\n",
    "        \"dokument_score_alt_gjennomsnitt\": row[\"all_mean\"],\n",
    "        \"dokument_score_rent_gjennomsnitt\": row[\"pure_mean_sims\"],\n",
    "        \"dokument_score_gjennomsnitt_vektet_med_lengden\": row[\"weighted_mean_sims\"],\n",
    "        f\"dokument_score_gjennomsnitt_top_{DEFAULT_K}\": row[\"top_k_mean\"],\n",
    "        \"splittede_paragrafer\": [\n",
    "            {\n",
    "                \"side\": page,\n",
    "                \"tekst\": text,\n",
    "                \"score\": deviation_scaled_with_length,\n",
    "                \"score_uten_å_ta_hensyn_til_lengde\": sims_scaled,\n",
    "            }\n",
    "            for (\n",
    "                page,\n",
    "                text,\n",
    "                _,\n",
    "            ), deviation_scaled_with_length, sims_scaled in zipped_paras\n",
    "        ],\n",
    "    }"
   ]
  },
  {
   "cell_type": "code",
   "execution_count": 14,
   "metadata": {},
   "outputs": [
    {
     "name": "stdout",
     "output_type": "stream",
     "text": [
      "2024-05-09 08:22:19.922753: Executing code for question 1.1...\n",
      "2024-05-09 08:22:19.923572: Comparing similarity...\n",
      "2024-05-09 08:22:34.789659: Getting and writing json representation...\n"
     ]
    },
    {
     "data": {
      "application/vnd.jupyter.widget-view+json": {
       "model_id": "ae1ed90509544c15a28a22723c0fd110",
       "version_major": 2,
       "version_minor": 0
      },
      "text/plain": [
       "Writing .json files:   0%|          | 0/1775 [00:00<?, ?it/s]"
      ]
     },
     "metadata": {},
     "output_type": "display_data"
    },
    {
     "name": "stdout",
     "output_type": "stream",
     "text": [
      "\n"
     ]
    }
   ],
   "source": [
    "cwd = os.getcwd()\n",
    "data_folder = os.path.join(cwd, \"data\")\n",
    "orgs = get_all_organisations(df)\n",
    "deps = get_departments(df)\n",
    "dirs = get_directorates(df)\n",
    "ffed = False\n",
    "for x, y in questions.items():\n",
    "    print(f\"{datetime.now()}: Executing code for question {x}...\")\n",
    "    question_folder = os.path.join(data_folder, x)\n",
    "    if not os.path.exists(question_folder):\n",
    "        os.makedirs(question_folder)\n",
    "\n",
    "    question_reference = y[\"question_reference\"]\n",
    "    question_final = y[\"question_final\"]\n",
    "    inn_texts = y[\"reference_texts\"]\n",
    "    inn_texts_embedding = y[\"reference_embedding\"]\n",
    "\n",
    "    print(f\"{datetime.now()}: Comparing similarity...\")\n",
    "    populate_everything(df, inn_texts_embedding)\n",
    "\n",
    "    print(f\"{datetime.now()}: Getting and writing json representation...\")\n",
    "    texts_folder = os.path.join(\n",
    "        question_folder, \"tekstsnutter_med_score_for_hvert_dokument\"\n",
    "    )\n",
    "    if not os.path.exists(texts_folder):\n",
    "        os.makedirs(texts_folder)\n",
    "    df[\"json\"] = df.apply(split_paragraphs_with_score_to_dict, axis=1)\n",
    "    # for each row, write the json to a file\n",
    "    for i, row in tqdm(df.iterrows(), desc=\"Writing .json files\", total=len(df)):\n",
    "        company_folder = os.path.join(question_folder, row[\"name\"].replace(\"/\", \"-\"))\n",
    "        if not os.path.exists(company_folder):\n",
    "            os.makedirs(company_folder)\n",
    "        # check if the file name exists already\n",
    "        filename = os.path.join(\n",
    "            company_folder, f\"{row['title'].replace(\"/\", \"-\")}.json\"\n",
    "        )\n",
    "        if os.path.exists(filename):\n",
    "            # if it exists, add a number to the end of the filename before the .json\n",
    "            j = 1\n",
    "            while os.path.exists(\n",
    "                os.path.join(\n",
    "                    company_folder,\n",
    "                    f\"{\n",
    "                        row['title'].replace('/', '-')}-{j}.json\",\n",
    "                )\n",
    "            ):\n",
    "                j += 1\n",
    "            filename = os.path.join(\n",
    "                company_folder, f\"{row['title'].replace('/', '-')}-{j}.json\"\n",
    "            )\n",
    "        with open(filename, \"w\") as f:\n",
    "            json.dump(row[\"json\"], f, ensure_ascii=False)\n",
    "            df.iloc[i, df.columns.get_loc(\"json\")] = None\n",
    "\n",
    "    print()\n",
    "    break"
   ]
  },
  {
   "cell_type": "code",
   "execution_count": null,
   "metadata": {},
   "outputs": [],
   "source": [
    "# need to download the data folder and zip it in windows\n",
    "# clear_data_folder()"
   ]
  }
 ],
 "metadata": {
  "kernelspec": {
   "display_name": ".venv",
   "language": "python",
   "name": "python3"
  },
  "language_info": {
   "codemirror_mode": {
    "name": "ipython",
    "version": 3
   },
   "file_extension": ".py",
   "mimetype": "text/x-python",
   "name": "python",
   "nbconvert_exporter": "python",
   "pygments_lexer": "ipython3",
   "version": "3.12.1"
  }
 },
 "nbformat": 4,
 "nbformat_minor": 2
}
