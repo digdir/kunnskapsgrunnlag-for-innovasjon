{
 "cells": [
  {
   "cell_type": "code",
   "execution_count": 1,
   "metadata": {},
   "outputs": [],
   "source": [
    "%load_ext autoreload\n",
    "%autoreload 2"
   ]
  },
  {
   "cell_type": "code",
   "execution_count": 7,
   "metadata": {},
   "outputs": [],
   "source": [
    "import os\n",
    "import pickle\n",
    "from datetime import datetime\n",
    "\n",
    "import pandas as pd\n",
    "from matplotlib import pyplot as plt\n",
    "\n",
    "from src.utils import (\n",
    "    get_all_organisations,\n",
    "    populate_everything,\n",
    "    populate_lengths,\n",
    "    remove_empty_documents,\n",
    ")"
   ]
  },
  {
   "cell_type": "code",
   "execution_count": 3,
   "metadata": {},
   "outputs": [],
   "source": [
    "df: pd.DataFrame = pd.read_pickle(\"df_with_embeddings_float32_filtered50.pkl\")\n",
    "populate_lengths(df)\n",
    "remove_empty_documents(df)"
   ]
  },
  {
   "cell_type": "code",
   "execution_count": 4,
   "metadata": {},
   "outputs": [],
   "source": [
    "with open(\"questions_with_embeddings.pkl\", \"rb\") as f:\n",
    "    questions = pickle.load(f)"
   ]
  },
  {
   "cell_type": "code",
   "execution_count": 16,
   "metadata": {},
   "outputs": [
    {
     "name": "stdout",
     "output_type": "stream",
     "text": [
      "2024-05-08 12:51:07.355529: Executing code for question 5.3...\n",
      "2024-05-08 12:51:07.355669: Comparing similarity...\n",
      "2024-05-08 12:51:13.856453: Executing code for question 5.4...\n",
      "2024-05-08 12:51:13.856590: Comparing similarity...\n"
     ]
    }
   ],
   "source": [
    "cwd = os.getcwd()\n",
    "data_folder = os.path.join(cwd, \"data\")\n",
    "orgs = get_all_organisations(df)\n",
    "scores_df = pd.DataFrame(index=orgs)\n",
    "for x, y in questions.items():\n",
    "    print(f\"{datetime.now()}: Executing code for question {x}...\")\n",
    "\n",
    "    question_reference = y[\"question_reference\"]\n",
    "    question_final = y[\"question_final\"]\n",
    "    inn_texts = y[\"reference_texts\"]\n",
    "    inn_texts_embedding = y[\"reference_embedding\"]\n",
    "\n",
    "    print(f\"{datetime.now()}: Comparing similarity...\")\n",
    "    populate_everything(df, inn_texts_embedding)\n",
    "\n",
    "    mean_values = df.groupby(\"name\")[\"all_mean\"].mean()\n",
    "\n",
    "    # fill in a new columns with name x that uses the index to find the mean value\n",
    "    scores_df[x] = scores_df.index.map(mean_values)"
   ]
  },
  {
   "cell_type": "code",
   "execution_count": 17,
   "metadata": {},
   "outputs": [],
   "source": [
    "with open(\"scores_df.pkl\", \"wb\") as f:\n",
    "    pickle.dump(scores_df, f)"
   ]
  },
  {
   "cell_type": "code",
   "execution_count": 4,
   "metadata": {},
   "outputs": [],
   "source": [
    "with open(\"scores_df.pkl\", \"rb\") as f:\n",
    "    scores_df = pickle.load(f)"
   ]
  },
  {
   "cell_type": "code",
   "execution_count": 8,
   "metadata": {},
   "outputs": [],
   "source": [
    "cwd = os.getcwd()\n",
    "data_folder = os.path.join(cwd, \"data\")\n",
    "if not os.path.exists(data_folder):\n",
    "    os.makedirs(data_folder)\n",
    "orgs = get_all_organisations(df)\n",
    "\n",
    "for org, row in scores_df.iterrows():\n",
    "    # plot the scores for the organisation\n",
    "    # the scores are stored in the other columns\n",
    "    # the plot uses matplotlib to plot as a bar chart\n",
    "    # the plot is written here and does not use outside functions\n",
    "\n",
    "    fig, ax = plt.subplots(figsize=(10, 5))\n",
    "    # the x is the column names\n",
    "    # the y is the values in the row\n",
    "    ax.bar(row.index, row.values)\n",
    "    ax.set_title(f\"Aggregerte scorer for alle dokumentene til {org}\")\n",
    "    org_filename = org.replace(\"/\", \"-\")\n",
    "    fig.savefig(\n",
    "        os.path.join(\n",
    "            data_folder,\n",
    "            f\"{org_filename}.png\",\n",
    "        ),\n",
    "        bbox_inches=\"tight\",\n",
    "    )\n",
    "    plt.close()"
   ]
  }
 ],
 "metadata": {
  "kernelspec": {
   "display_name": ".venv",
   "language": "python",
   "name": "python3"
  },
  "language_info": {
   "codemirror_mode": {
    "name": "ipython",
    "version": 3
   },
   "file_extension": ".py",
   "mimetype": "text/x-python",
   "name": "python",
   "nbconvert_exporter": "python",
   "pygments_lexer": "ipython3",
   "version": "3.12.1"
  }
 },
 "nbformat": 4,
 "nbformat_minor": 2
}
