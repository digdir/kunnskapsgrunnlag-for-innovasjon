{
 "cells": [
  {
   "cell_type": "code",
   "execution_count": 1,
   "metadata": {},
   "outputs": [],
   "source": [
    "import json\n",
    "import os\n",
    "\n",
    "import markdown"
   ]
  },
  {
   "cell_type": "code",
   "execution_count": 2,
   "metadata": {},
   "outputs": [],
   "source": [
    "with open(\"answers.json\", \"r\") as f:\n",
    "    questions = json.load(f)"
   ]
  },
  {
   "cell_type": "code",
   "execution_count": 3,
   "metadata": {},
   "outputs": [
    {
     "name": "stdout",
     "output_type": "stream",
     "text": [
      "updating: 1.1.html (deflated 64%)\n",
      "updating: 1.2.html (deflated 64%)\n",
      "updating: 1.3.html (deflated 68%)\n",
      "updating: 1.4.html (deflated 66%)\n",
      "updating: 1.5.html (deflated 64%)\n",
      "updating: 1.6.html (deflated 64%)\n",
      "updating: 2.1.html (deflated 67%)\n",
      "updating: 2.2.html (deflated 66%)\n",
      "updating: 2.3.html (deflated 68%)\n",
      "updating: 2.4.html (deflated 63%)\n",
      "updating: 3.1.html (deflated 64%)\n",
      "updating: 3.2.html (deflated 63%)\n",
      "updating: 3.3.html (deflated 64%)\n",
      "updating: 3.4.html (deflated 63%)\n",
      "updating: 4.1.html (deflated 64%)\n",
      "updating: 4.2.html (deflated 62%)\n",
      "updating: 4.3.html (deflated 63%)\n",
      "updating: 4.4.html (deflated 63%)\n",
      "updating: 4.5.html (deflated 64%)\n",
      "updating: 5.1.html (deflated 63%)\n",
      "updating: 5.2.html (deflated 68%)\n",
      "updating: 5.3.html (deflated 65%)\n",
      "updating: 5.4.html (deflated 64%)\n",
      "updating: questions.txt (deflated 58%)\n",
      "updating: answers.json (deflated 72%)\n"
     ]
    }
   ],
   "source": [
    "# Iterate over the top-level keys in the questions object\n",
    "for key in questions.keys():\n",
    "    question = questions[key]\n",
    "    reference_texts = question.get(\"reference_texts\", [])\n",
    "    retrieved_texts = question.get(\"retrieved_texts\", [])\n",
    "    final_answer = question.get(\"final_answer\", \"\")\n",
    "\n",
    "    # Create a Markdown file for each key\n",
    "    with open(f\"{key}.md\", \"w\") as f:\n",
    "        # Write the key as a heading\n",
    "        f.write(f\"# Spørsmål {key}\\n\\n\")\n",
    "\n",
    "        f.write(\"## Spørsmål stilt til språkmodellen for å få referansetekstene:\\n\")\n",
    "        f.write(f\"{question['question_reference']}\\n\\n\")\n",
    "\n",
    "        f.write(\"## Spørsmål stilt til språkmodellen for å få det endelige svaret:\\n\")\n",
    "        f.write(f\"{question['question_final']}\\n\\n\")\n",
    "\n",
    "        # Write the reference texts\n",
    "        f.write(\"## Referansetekster:\\n\")\n",
    "        for text in reference_texts:\n",
    "            f.write(f\"- {text}\\n\")\n",
    "\n",
    "        # Write the retrieved texts\n",
    "        f.write(\"\\n## Tekster gitt til språkmodellen:\\n\")\n",
    "        for text in retrieved_texts:\n",
    "            metadata = text.split(\"\\n\")\n",
    "            for i in range(3):\n",
    "                f.write(f\"- {metadata[i]}\\n\")\n",
    "            f.write(\"\\n\")\n",
    "            remaining_text = \"\\n\".join(metadata[3:])\n",
    "            f.write(f\"{remaining_text}\\n\\n\")\n",
    "\n",
    "        # Write the final answer\n",
    "        f.write(\"\\n## Endelig svar fra språkmodellen:\\n\")\n",
    "        f.write(f\"{final_answer}\\n\")\n",
    "\n",
    "# Convert each Markdown file to HTML\n",
    "for file in os.listdir():\n",
    "    if file.endswith(\".md\"):\n",
    "        with open(file, \"r\") as f:\n",
    "            text = f.read()\n",
    "        html = markdown.markdown(text)\n",
    "        with open(f\"{file[:-3]}.html\", \"w\") as f:\n",
    "            f.write(html)\n",
    "\n",
    "for file in os.listdir():\n",
    "    if file.endswith(\".md\"):\n",
    "        os.remove(file)\n",
    "\n",
    "# zip all of the .html files along with the questions.txt file\n",
    "os.system(\"zip -r answers.zip *.html questions.txt answers.json\")\n",
    "\n",
    "for file in os.listdir():\n",
    "    if file.endswith(\".html\"):\n",
    "        os.remove(file)"
   ]
  }
 ],
 "metadata": {
  "kernelspec": {
   "display_name": ".venv",
   "language": "python",
   "name": "python3"
  },
  "language_info": {
   "codemirror_mode": {
    "name": "ipython",
    "version": 3
   },
   "file_extension": ".py",
   "mimetype": "text/x-python",
   "name": "python",
   "nbconvert_exporter": "python",
   "pygments_lexer": "ipython3",
   "version": "3.12.1"
  }
 },
 "nbformat": 4,
 "nbformat_minor": 2
}
